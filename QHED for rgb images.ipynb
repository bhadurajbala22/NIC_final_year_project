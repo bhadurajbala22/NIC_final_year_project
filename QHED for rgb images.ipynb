{
 "cells": [
  {
   "cell_type": "code",
   "execution_count": 1,
   "id": "89e420d4",
   "metadata": {},
   "outputs": [],
   "source": [
    "from qiskit import *\n",
    "from qiskit import IBMQ\n",
    "from qiskit.compiler import transpile, assemble\n",
    "from qiskit.tools.jupyter import *\n",
    "from qiskit.visualization import *\n",
    "import skimage.color\n",
    "import numpy as np\n",
    "import matplotlib.pyplot as plt\n",
    "from matplotlib import style\n",
    "import math\n",
    "\n",
    "from PIL import Image\n",
    "from numpy import asarray\n",
    "image_o = Image.open('Apple1.png').convert('1')\n",
    "image_o.show()\n",
    "new_image_o = Image.open('Apple1.png')\n",
    "\n",
    "imggg=asarray(image_o)\n",
    "imggg_=asarray(new_image_o)"
   ]
  },
  {
   "cell_type": "code",
   "execution_count": 3,
   "id": "17e73456",
   "metadata": {},
   "outputs": [
    {
     "data": {
      "image/png": "[encoded data removed]",
      "text/plain": [
       "<Figure size 640x480 with 1 Axes>"
      ]
     },
     "metadata": {},
     "output_type": "display_data"
    },
    {
     "name": "stdout",
     "output_type": "stream",
     "text": [
      "size = (366, 368, 4)\n"
     ]
    }
   ],
   "source": [
    "import matplotlib.pyplot as plt\n",
    "\n",
    "def plot_image(image, title):\n",
    "    plt.imshow(image)\n",
    "    plt.title(title)\n",
    "    plt.show()\n",
    "\n",
    "\n",
    "plot_image(imggg_, 'Initial image')\n",
    "print(\"size =\", imggg_.shape)\n"
   ]
  },
  {
   "cell_type": "code",
   "execution_count": 5,
   "id": "2c0d5845",
   "metadata": {},
   "outputs": [
    {
     "name": "stdout",
     "output_type": "stream",
     "text": [
      "Horizontal image normalized coefficients [0.00357828 0.00357828 0.00357828 ... 0.00357828 0.00357828 0.00357828]\n",
      "\n",
      "\n",
      "vertical image normalized coefficients [0.00357828 0.00357828 0.00357828 ... 0.00357828 0.00357828 0.00357828]\n",
      "\n",
      "size of 1d array (134688,)\n",
      "size of 1d array (134688,)\n"
     ]
    }
   ],
   "source": [
    "# Convert the raw pixel values to probability amplitudes\n",
    "\n",
    "def amplitude_encode(img_data):\n",
    "    \n",
    "    # Calculate the RMS value\n",
    "    rms_32_rgb = np.sqrt(np.sum(np.sum(img_data**2, axis=1)))\n",
    "    \n",
    "    # Create normalized image\n",
    "    image_norm = []\n",
    "    for arr in img_data:\n",
    "        for ele in arr:\n",
    "            image_norm.append(ele / rms_32_rgb)\n",
    "        \n",
    "    # Return the normalized image as a numpy array\n",
    "    return np.array(image_norm)\n",
    "\n",
    "\n",
    "#we now normalize image and get coefficients in both horizontal and vertical directions\n",
    "\n",
    "# Horizontal: Original image\n",
    "h_norm_image_32_rgb = amplitude_encode(imggg)\n",
    "print(\"Horizontal image normalized coefficients\",h_norm_image_32_rgb)\n",
    "\n",
    "\n",
    "print()\n",
    "print()\n",
    "\n",
    "# Vertical: Transpose of Original image\n",
    "v_norm_image_32_rgb = amplitude_encode(imggg.T)\n",
    "print(\"vertical image normalized coefficients\",v_norm_image_32_rgb)\n",
    "\n",
    "print()\n",
    "print(\"size of 1d array\",h_norm_image_32_rgb.shape)\n",
    "print(\"size of 1d array\",v_norm_image_32_rgb.shape)"
   ]
  },
  {
   "cell_type": "code",
   "execution_count": 6,
   "id": "5d9e60af",
   "metadata": {},
   "outputs": [
    {
     "name": "stdout",
     "output_type": "stream",
     "text": [
      "[[1. 0. 0. ... 0. 0. 0.]\n",
      " [0. 1. 0. ... 0. 0. 0.]\n",
      " [0. 0. 1. ... 0. 0. 0.]\n",
      " ...\n",
      " [0. 0. 0. ... 1. 0. 0.]\n",
      " [0. 0. 0. ... 0. 1. 0.]\n",
      " [0. 0. 0. ... 0. 0. 1.]]\n",
      "\n",
      "\n",
      "\n",
      "shift Amplitude permutation matrix by 1 unit to the right column wise\n",
      "\n",
      "[[0. 1. 0. ... 0. 0. 0.]\n",
      " [0. 0. 1. ... 0. 0. 0.]\n",
      " [0. 0. 0. ... 0. 0. 0.]\n",
      " ...\n",
      " [0. 0. 0. ... 0. 1. 0.]\n",
      " [0. 0. 0. ... 0. 0. 1.]\n",
      " [1. 0. 0. ... 0. 0. 0.]]\n",
      "\n",
      "we will later use this for while applying hadamard operation to image coefficient vectors\n",
      "\n",
      "(2048, 2048)\n"
     ]
    }
   ],
   "source": [
    "#we require N=log(32*32) qubits \n",
    "#N=10\n",
    "\n",
    "data_q_32_rgb = 10\n",
    "ancillary_q_32_rgb = 1\n",
    "total_q_32_rgb = data_q_32_rgb + ancillary_q_32_rgb\n",
    "\n",
    "# Initialize the amplitude permutation unitary\n",
    "Amp_permutation_unitary_32_rgb = np.identity(2**total_q_32_rgb)\n",
    "print(Amp_permutation_unitary_32_rgb)\n",
    "Amp_permutation_unitary_32_rgb=np.roll(Amp_permutation_unitary_32_rgb,1,axis=1)\n",
    "print()\n",
    "print()\n",
    "print()\n",
    "print(\"shift Amplitude permutation matrix by 1 unit to the right column wise\")\n",
    "print()\n",
    "print(Amp_permutation_unitary_32_rgb)\n",
    "print()\n",
    "print(\"we will later use this for while applying hadamard operation to image coefficient vectors\")\n",
    "print()\n",
    "print(Amp_permutation_unitary_32_rgb.shape)"
   ]
  },
  {
   "cell_type": "code",
   "execution_count": 7,
   "id": "5f48a835",
   "metadata": {},
   "outputs": [
    {
     "ename": "QiskitError",
     "evalue": "'Desired statevector length not a positive power of 2.'",
     "output_type": "error",
     "traceback": [
      "\u001b[1;31m---------------------------------------------------------------------------\u001b[0m",
      "\u001b[1;31mQiskitError\u001b[0m                               Traceback (most recent call last)",
      "\u001b[1;32m~\\AppData\\Local\\Temp\\ipykernel_14960\\2925635816.py\u001b[0m in \u001b[0;36m<module>\u001b[1;34m\u001b[0m\n\u001b[0;32m      2\u001b[0m \u001b[1;33m\u001b[0m\u001b[0m\n\u001b[0;32m      3\u001b[0m \u001b[0mqc_h_32_rgb\u001b[0m \u001b[1;33m=\u001b[0m \u001b[0mQuantumCircuit\u001b[0m\u001b[1;33m(\u001b[0m\u001b[0mtotal_q_32_rgb\u001b[0m\u001b[1;33m)\u001b[0m\u001b[1;33m\u001b[0m\u001b[1;33m\u001b[0m\u001b[0m\n\u001b[1;32m----> 4\u001b[1;33m \u001b[0mqc_h_32_rgb\u001b[0m\u001b[1;33m.\u001b[0m\u001b[0minitialize\u001b[0m\u001b[1;33m(\u001b[0m\u001b[0mh_norm_image_32_rgb\u001b[0m\u001b[1;33m,\u001b[0m \u001b[0mrange\u001b[0m\u001b[1;33m(\u001b[0m\u001b[1;36m1\u001b[0m\u001b[1;33m,\u001b[0m \u001b[0mtotal_q_32_rgb\u001b[0m\u001b[1;33m)\u001b[0m\u001b[1;33m)\u001b[0m\u001b[1;33m\u001b[0m\u001b[1;33m\u001b[0m\u001b[0m\n\u001b[0m\u001b[0;32m      5\u001b[0m \u001b[0mqc_h_32_rgb\u001b[0m\u001b[1;33m.\u001b[0m\u001b[0mh\u001b[0m\u001b[1;33m(\u001b[0m\u001b[1;36m0\u001b[0m\u001b[1;33m)\u001b[0m\u001b[1;33m\u001b[0m\u001b[1;33m\u001b[0m\u001b[0m\n\u001b[0;32m      6\u001b[0m \u001b[0mqc_h_32_rgb\u001b[0m\u001b[1;33m.\u001b[0m\u001b[0munitary\u001b[0m\u001b[1;33m(\u001b[0m\u001b[0mAmp_permutation_unitary_32_rgb\u001b[0m\u001b[1;33m,\u001b[0m \u001b[0mrange\u001b[0m\u001b[1;33m(\u001b[0m\u001b[0mtotal_q_32_rgb\u001b[0m\u001b[1;33m)\u001b[0m\u001b[1;33m)\u001b[0m\u001b[1;33m\u001b[0m\u001b[1;33m\u001b[0m\u001b[0m\n",
      "\u001b[1;32m~\\anaconda3\\lib\\site-packages\\qiskit\\extensions\\quantum_initializer\\initializer.py\u001b[0m in \u001b[0;36minitialize\u001b[1;34m(self, params, qubits)\u001b[0m\n\u001b[0;32m    189\u001b[0m     \u001b[0mnum_qubits\u001b[0m \u001b[1;33m=\u001b[0m \u001b[0mlen\u001b[0m\u001b[1;33m(\u001b[0m\u001b[0mqubits\u001b[0m\u001b[1;33m)\u001b[0m \u001b[1;32mif\u001b[0m \u001b[0misinstance\u001b[0m\u001b[1;33m(\u001b[0m\u001b[0mparams\u001b[0m\u001b[1;33m,\u001b[0m \u001b[0mint\u001b[0m\u001b[1;33m)\u001b[0m \u001b[1;32melse\u001b[0m \u001b[1;32mNone\u001b[0m\u001b[1;33m\u001b[0m\u001b[1;33m\u001b[0m\u001b[0m\n\u001b[0;32m    190\u001b[0m \u001b[1;33m\u001b[0m\u001b[0m\n\u001b[1;32m--> 191\u001b[1;33m     \u001b[1;32mreturn\u001b[0m \u001b[0mself\u001b[0m\u001b[1;33m.\u001b[0m\u001b[0mappend\u001b[0m\u001b[1;33m(\u001b[0m\u001b[0mInitialize\u001b[0m\u001b[1;33m(\u001b[0m\u001b[0mparams\u001b[0m\u001b[1;33m,\u001b[0m \u001b[0mnum_qubits\u001b[0m\u001b[1;33m)\u001b[0m\u001b[1;33m,\u001b[0m \u001b[0mqubits\u001b[0m\u001b[1;33m)\u001b[0m\u001b[1;33m\u001b[0m\u001b[1;33m\u001b[0m\u001b[0m\n\u001b[0m\u001b[0;32m    192\u001b[0m \u001b[1;33m\u001b[0m\u001b[0m\n\u001b[0;32m    193\u001b[0m \u001b[1;33m\u001b[0m\u001b[0m\n",
      "\u001b[1;32m~\\anaconda3\\lib\\site-packages\\qiskit\\extensions\\quantum_initializer\\initializer.py\u001b[0m in \u001b[0;36m__init__\u001b[1;34m(self, params, num_qubits)\u001b[0m\n\u001b[0;32m     55\u001b[0m                 \u001b[1;32mand\u001b[0m \u001b[0mthe\u001b[0m \u001b[0mremaining\u001b[0m \u001b[1;36m3\u001b[0m \u001b[0mqubits\u001b[0m \u001b[0mto\u001b[0m \u001b[0mbe\u001b[0m \u001b[0minitialized\u001b[0m \u001b[0mto\u001b[0m \u001b[1;33m:\u001b[0m\u001b[0mmath\u001b[0m\u001b[1;33m:\u001b[0m\u001b[0;31m`\u001b[0m\u001b[1;33m|\u001b[0m\u001b[1;36m0\u001b[0m\u001b[0;31m\\\u001b[0m\u001b[0mrangle\u001b[0m\u001b[0;31m`\u001b[0m\u001b[1;33m.\u001b[0m\u001b[1;33m\u001b[0m\u001b[1;33m\u001b[0m\u001b[0m\n\u001b[0;32m     56\u001b[0m         \"\"\"\n\u001b[1;32m---> 57\u001b[1;33m         \u001b[0mself\u001b[0m\u001b[1;33m.\u001b[0m\u001b[0m_stateprep\u001b[0m \u001b[1;33m=\u001b[0m \u001b[0mStatePreparation\u001b[0m\u001b[1;33m(\u001b[0m\u001b[0mparams\u001b[0m\u001b[1;33m,\u001b[0m \u001b[0mnum_qubits\u001b[0m\u001b[1;33m)\u001b[0m\u001b[1;33m\u001b[0m\u001b[1;33m\u001b[0m\u001b[0m\n\u001b[0m\u001b[0;32m     58\u001b[0m \u001b[1;33m\u001b[0m\u001b[0m\n\u001b[0;32m     59\u001b[0m         \u001b[0msuper\u001b[0m\u001b[1;33m(\u001b[0m\u001b[1;33m)\u001b[0m\u001b[1;33m.\u001b[0m\u001b[0m__init__\u001b[0m\u001b[1;33m(\u001b[0m\u001b[1;34m\"initialize\"\u001b[0m\u001b[1;33m,\u001b[0m \u001b[0mself\u001b[0m\u001b[1;33m.\u001b[0m\u001b[0m_stateprep\u001b[0m\u001b[1;33m.\u001b[0m\u001b[0mnum_qubits\u001b[0m\u001b[1;33m,\u001b[0m \u001b[1;36m0\u001b[0m\u001b[1;33m,\u001b[0m \u001b[0mself\u001b[0m\u001b[1;33m.\u001b[0m\u001b[0m_stateprep\u001b[0m\u001b[1;33m.\u001b[0m\u001b[0mparams\u001b[0m\u001b[1;33m)\u001b[0m\u001b[1;33m\u001b[0m\u001b[1;33m\u001b[0m\u001b[0m\n",
      "\u001b[1;32m~\\anaconda3\\lib\\site-packages\\qiskit\\circuit\\library\\data_preparation\\state_preparation.py\u001b[0m in \u001b[0;36m__init__\u001b[1;34m(self, params, num_qubits, inverse, label)\u001b[0m\n\u001b[0;32m     97\u001b[0m         \u001b[0mself\u001b[0m\u001b[1;33m.\u001b[0m\u001b[0m_from_int\u001b[0m \u001b[1;33m=\u001b[0m \u001b[0misinstance\u001b[0m\u001b[1;33m(\u001b[0m\u001b[0mparams\u001b[0m\u001b[1;33m,\u001b[0m \u001b[0mint\u001b[0m\u001b[1;33m)\u001b[0m\u001b[1;33m\u001b[0m\u001b[1;33m\u001b[0m\u001b[0m\n\u001b[0;32m     98\u001b[0m \u001b[1;33m\u001b[0m\u001b[0m\n\u001b[1;32m---> 99\u001b[1;33m         \u001b[0mnum_qubits\u001b[0m \u001b[1;33m=\u001b[0m \u001b[0mself\u001b[0m\u001b[1;33m.\u001b[0m\u001b[0m_get_num_qubits\u001b[0m\u001b[1;33m(\u001b[0m\u001b[0mnum_qubits\u001b[0m\u001b[1;33m,\u001b[0m \u001b[0mparams\u001b[0m\u001b[1;33m)\u001b[0m\u001b[1;33m\u001b[0m\u001b[1;33m\u001b[0m\u001b[0m\n\u001b[0m\u001b[0;32m    100\u001b[0m \u001b[1;33m\u001b[0m\u001b[0m\n\u001b[0;32m    101\u001b[0m         \u001b[0mparams\u001b[0m \u001b[1;33m=\u001b[0m \u001b[1;33m[\u001b[0m\u001b[0mparams\u001b[0m\u001b[1;33m]\u001b[0m \u001b[1;32mif\u001b[0m \u001b[0misinstance\u001b[0m\u001b[1;33m(\u001b[0m\u001b[0mparams\u001b[0m\u001b[1;33m,\u001b[0m \u001b[0mint\u001b[0m\u001b[1;33m)\u001b[0m \u001b[1;32melse\u001b[0m \u001b[0mparams\u001b[0m\u001b[1;33m\u001b[0m\u001b[1;33m\u001b[0m\u001b[0m\n",
      "\u001b[1;32m~\\anaconda3\\lib\\site-packages\\qiskit\\circuit\\library\\data_preparation\\state_preparation.py\u001b[0m in \u001b[0;36m_get_num_qubits\u001b[1;34m(self, num_qubits, params)\u001b[0m\n\u001b[0;32m    196\u001b[0m             \u001b[1;31m# Check if param is a power of 2\u001b[0m\u001b[1;33m\u001b[0m\u001b[1;33m\u001b[0m\u001b[0m\n\u001b[0;32m    197\u001b[0m             \u001b[1;32mif\u001b[0m \u001b[0mnum_qubits\u001b[0m \u001b[1;33m==\u001b[0m \u001b[1;36m0\u001b[0m \u001b[1;32mor\u001b[0m \u001b[1;32mnot\u001b[0m \u001b[0mnum_qubits\u001b[0m\u001b[1;33m.\u001b[0m\u001b[0mis_integer\u001b[0m\u001b[1;33m(\u001b[0m\u001b[1;33m)\u001b[0m\u001b[1;33m:\u001b[0m\u001b[1;33m\u001b[0m\u001b[1;33m\u001b[0m\u001b[0m\n\u001b[1;32m--> 198\u001b[1;33m                 \u001b[1;32mraise\u001b[0m \u001b[0mQiskitError\u001b[0m\u001b[1;33m(\u001b[0m\u001b[1;34m\"Desired statevector length not a positive power of 2.\"\u001b[0m\u001b[1;33m)\u001b[0m\u001b[1;33m\u001b[0m\u001b[1;33m\u001b[0m\u001b[0m\n\u001b[0m\u001b[0;32m    199\u001b[0m \u001b[1;33m\u001b[0m\u001b[0m\n\u001b[0;32m    200\u001b[0m             \u001b[1;31m# Check if probabilities (amplitudes squared) sum to 1\u001b[0m\u001b[1;33m\u001b[0m\u001b[1;33m\u001b[0m\u001b[0m\n",
      "\u001b[1;31mQiskitError\u001b[0m: 'Desired statevector length not a positive power of 2.'"
     ]
    }
   ],
   "source": [
    "# Creating the circuit for horizontal scan\n",
    "\n",
    "qc_h_32_rgb = QuantumCircuit(total_q_32_rgb)\n",
    "qc_h_32_rgb.initialize(h_norm_image_32_rgb, range(1, total_q_32_rgb))\n",
    "qc_h_32_rgb.h(0)\n",
    "qc_h_32_rgb.unitary(Amp_permutation_unitary_32_rgb, range(total_q_32_rgb))\n",
    "qc_h_32_rgb.h(0)\n",
    "\n",
    "display(qc_h_32_rgb.draw('mpl', fold=-1))\n",
    "\n",
    "\n",
    "# Create the circuit for vertical scan\n",
    "qc_v_32_rgb = QuantumCircuit(total_q_32_rgb)\n",
    "qc_v_32_rgb.initialize(v_norm_image_32_rgb, range(1, total_q_32_rgb))\n",
    "qc_v_32_rgb.h(0)\n",
    "qc_v_32_rgb.unitary(Amp_permutation_unitary_32_rgb, range(total_q_32_rgb))\n",
    "qc_v_32_rgb.h(0)\n",
    "\n",
    "display(qc_v_32_rgb.draw('mpl', fold=-1))\n",
    "\n",
    "# Combine both circuits into a single list\n",
    "circ_list_32_rgb = [qc_h_32_rgb, qc_v_32_rgb]"
   ]
  },
  {
   "cell_type": "code",
   "execution_count": null,
   "id": "04b2857d",
   "metadata": {},
   "outputs": [],
   "source": []
  }
 ],
 "metadata": {
  "kernelspec": {
   "display_name": "Python 3 (ipykernel)",
   "language": "python",
   "name": "python3"
  },
  "language_info": {
   "codemirror_mode": {
    "name": "ipython",
    "version": 3
   },
   "file_extension": ".py",
   "mimetype": "text/x-python",
   "name": "python",
   "nbconvert_exporter": "python",
   "pygments_lexer": "ipython3",
   "version": "3.9.13"
  }
 },
 "nbformat": 4,
 "nbformat_minor": 5
}
