{
 "cells": [
  {
   "cell_type": "code",
   "execution_count": 2,
   "id": "078f6658",
   "metadata": {},
   "outputs": [],
   "source": [
    "import numpy as np\n",
    "from math import sqrt, pow"
   ]
  },
  {
   "cell_type": "code",
   "execution_count": 3,
   "id": "63d911ce",
   "metadata": {},
   "outputs": [
    {
     "name": "stdout",
     "output_type": "stream",
     "text": [
      "bit = 0 :  [1 0]\n",
      "bit = 1 :  [0 1]\n",
      "|0⟩ :  [1 0]\n",
      "|1⟩ :  [0 1]\n",
      "a|0⟩+b|1⟩ :  [0.707 0.707]\n",
      "\n",
      "\n"
     ]
    }
   ],
   "source": [
    "# Define the qubit parameters for superposition\n",
    "a = sqrt(1/2)\n",
    "b = sqrt(1/2)\n",
    "if round(pow(a,2)+pow(b,2),0)!=1:\n",
    " print(\"Your qubit parameters are not normalized.\\nResetting to basic superposition\")\n",
    " a = sqrt(1/2)\n",
    "b = sqrt(1/2)\n",
    "bits = {\"bit = 0\":np.array([1,0]), \n",
    " \"bit = 1\":np.array([0,1]), \n",
    " \"|0\\u27E9\":np.array([1,0]), \n",
    " \"|1\\u27E9\":np.array([0,1]), \n",
    " \"a|0\\u27E9+b|1\\u27E9\":np.array([a,b])}\n",
    "# Print the vectors \n",
    "for b in bits:\n",
    " print(b, \": \", bits[b].round(3)) \n",
    "print (\"\\n\")"
   ]
  },
  {
   "cell_type": "code",
   "execution_count": 10,
   "id": "e22e5aae",
   "metadata": {
    "collapsed": true
   },
   "outputs": [
    {
     "ename": "SyntaxError",
     "evalue": "EOL while scanning string literal (3481576871.py, line 9)",
     "output_type": "error",
     "traceback": [
      "\u001b[1;36m  File \u001b[1;32m\"C:\\Users\\admin\\AppData\\Local\\Temp\\ipykernel_27184\\3481576871.py\"\u001b[1;36m, line \u001b[1;32m9\u001b[0m\n\u001b[1;33m    print(dig, \" = \", '%.2f'%(prob[b]*100), percent\")\u001b[0m\n\u001b[1;37m                                                      ^\u001b[0m\n\u001b[1;31mSyntaxError\u001b[0m\u001b[1;31m:\u001b[0m EOL while scanning string literal\n"
     ]
    }
   ],
   "source": [
    "#print(\"'Measuring' our bits and qubits\")\n",
    "#print(\"-------------------------------\")\n",
    "#prob={}\n",
    "#for b in bits:\n",
    "    #print(b)\n",
    "    #print(\"Probability of getting:\")\n",
    "    #for dig in range(len(bits[b])):\n",
    "      #  prob[b]=pow(bits[b][dig],2)\n",
    "      #  print(dig, \" = \", '%.2f'%(prob[b]*100), percent\") \n",
    "   # print (\"\\n\")"
   ]
  },
  {
   "cell_type": "code",
   "execution_count": 4,
   "id": "f4dac971",
   "metadata": {},
   "outputs": [
    {
     "name": "stdout",
     "output_type": "stream",
     "text": [
      "'Measuring' our bits and qubits\n",
      "-------------------------------\n",
      "bit = 0\n",
      "Probability of getting:\n",
      "0  =  100.00 percent\n",
      "1  =  0.00 percent\n",
      "\n",
      "\n",
      "bit = 1\n",
      "Probability of getting:\n",
      "0  =  0.00 percent\n",
      "1  =  100.00 percent\n",
      "\n",
      "\n",
      "|0⟩\n",
      "Probability of getting:\n",
      "0  =  100.00 percent\n",
      "1  =  0.00 percent\n",
      "\n",
      "\n",
      "|1⟩\n",
      "Probability of getting:\n",
      "0  =  0.00 percent\n",
      "1  =  100.00 percent\n",
      "\n",
      "\n",
      "a|0⟩+b|1⟩\n",
      "Probability of getting:\n",
      "0  =  50.00 percent\n",
      "1  =  50.00 percent\n",
      "\n",
      "\n"
     ]
    }
   ],
   "source": [
    "print(\"'Measuring' our bits and qubits\")\n",
    "print(\"-------------------------------\")\n",
    "prob = {}\n",
    "for b in bits:\n",
    "    print(b)\n",
    "    print(\"Probability of getting:\")\n",
    "    for dig in range(len(bits[b])):\n",
    "        prob[b] = pow(bits[b][dig], 2)\n",
    "        print(dig, \" = \", '%.2f' % (prob[b] * 100), \"percent\")\n",
    "    print(\"\\n\")\n"
   ]
  },
  {
   "cell_type": "code",
   "execution_count": null,
   "id": "e6512a01",
   "metadata": {},
   "outputs": [],
   "source": []
  }
 ],
 "metadata": {
  "kernelspec": {
   "display_name": "Python 3 (ipykernel)",
   "language": "python",
   "name": "python3"
  },
  "language_info": {
   "codemirror_mode": {
    "name": "ipython",
    "version": 3
   },
   "file_extension": ".py",
   "mimetype": "text/x-python",
   "name": "python",
   "nbconvert_exporter": "python",
   "pygments_lexer": "ipython3",
   "version": "3.9.13"
  }
 },
 "nbformat": 4,
 "nbformat_minor": 5
}
